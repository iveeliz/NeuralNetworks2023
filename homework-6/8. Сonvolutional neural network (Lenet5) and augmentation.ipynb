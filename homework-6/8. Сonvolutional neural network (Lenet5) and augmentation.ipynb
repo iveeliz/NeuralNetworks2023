{
 "cells": [
  {
   "cell_type": "markdown",
   "metadata": {},
   "source": [
    "## Свёрточные нейронные сети и аугментация данных\n",
    "В этом задании необходимо обучить конволюционную нейросеть типа сети LeNet5, предложенную Яном Лекуном в 1998 году, для распознавания рукописных цифр из базы данных MNIST.  \n",
    "Код ниже предлагает базовый вариант обучения, который даёт около 98-99% точности на тестовой выборке.  "
   ]
  },
  {
   "cell_type": "code",
   "execution_count": 1,
   "metadata": {},
   "outputs": [
    {
     "name": "stdout",
     "output_type": "stream",
     "text": [
      "cpu\n"
     ]
    }
   ],
   "source": [
    "import torch\n",
    "import torch.nn as nn\n",
    "import torchvision\n",
    "import torchvision.transforms as transforms\n",
    "from torchvision.transforms import  v2\n",
    "from matplotlib import pyplot  as plt\n",
    "\n",
    "# Device configuration\n",
    "device = torch.device('cuda' if torch.cuda.is_available() else 'cpu')\n",
    "print(device)\n",
    "\n",
    "# Hyper-parameters \n",
    "input_size = 784\n",
    "hidden_size = 500\n",
    "num_classes = 10\n",
    "num_epochs = 5\n",
    "batch_size = 100\n",
    "learning_rate = 0.001"
   ]
  },
  {
   "cell_type": "markdown",
   "metadata": {},
   "source": [
    "# 1 Этап - подготовка данных!"
   ]
  },
  {
   "cell_type": "code",
   "execution_count": 2,
   "metadata": {},
   "outputs": [],
   "source": [
    "# MNIST dataset \n",
    "train_dataset = torchvision.datasets.MNIST(root='../../data', \n",
    "                                           train=True, \n",
    "                                           transform=transforms.ToTensor(),  \n",
    "                                           download=True)\n",
    "\n",
    "test_dataset = torchvision.datasets.MNIST(root='../../data', \n",
    "                                          train=False, \n",
    "                                          transform=transforms.ToTensor())\n",
    "\n",
    "# Data loader\n",
    "train_loader = torch.utils.data.DataLoader(dataset=train_dataset, \n",
    "                                           batch_size=batch_size, \n",
    "                                           shuffle=True)\n",
    "\n",
    "test_loader = torch.utils.data.DataLoader(dataset=test_dataset, \n",
    "                                          batch_size=batch_size, \n",
    "                                          shuffle=False)"
   ]
  },
  {
   "cell_type": "markdown",
   "metadata": {},
   "source": [
    "# 2 Этап - Нейронная сеть!"
   ]
  },
  {
   "cell_type": "markdown",
   "metadata": {},
   "source": [
    "<img src='Lenet5.png'>"
   ]
  },
  {
   "cell_type": "code",
   "execution_count": 3,
   "metadata": {},
   "outputs": [],
   "source": [
    "# Fully connected neural network with one hidden layer\n",
    "class Lenet5(nn.Module):\n",
    "    def __init__(self, hidden_size1=500, num_classes=10):\n",
    "        super().__init__()\n",
    "        self.conv1 = nn.Conv2d(in_channels=1, out_channels=20, kernel_size=5, stride=1, padding=0)\n",
    "        self.batchnorm1 = nn.BatchNorm2d(20)\n",
    "        self.maxpool = nn.MaxPool2d(kernel_size=2, stride=2)\n",
    "        self.conv2 = nn.Conv2d(in_channels=20, out_channels=50, kernel_size=5, stride=1, padding=0)\n",
    "        self.batchnorm2 = nn.BatchNorm2d(50)\n",
    "        self.relu = nn.ReLU()\n",
    "        self.fc1 = nn.Linear(50 * 4 * 4, hidden_size1) # fully connected\n",
    "        self.fc2 = nn.Linear(hidden_size1, num_classes)  \n",
    "    \n",
    "    def forward(self, x): # вход размера 1 x 28 x 28\n",
    "        out = self.conv1(x) # на выходе размер 20 x 24 x 24\n",
    "        out = self.batchnorm1(out)\n",
    "        out = self.maxpool(out) # на выходе размер 20 x 12 x 12\n",
    "        out = self.relu(out)\n",
    "        out = self.conv2(out)  # на выходе размер 50 x 8 x 8\n",
    "        out = self.batchnorm2(out)\n",
    "        out = self.maxpool(out) # на выходе размер 50 x 4 x 4\n",
    "        out = self.relu(out)\n",
    "        out = out.reshape(-1, 50 * 4 * 4) # на выходе размер 800\n",
    "        out = self.fc1(out) # на выходе размер 500\n",
    "        out = self.relu(out)\n",
    "        out = self.fc2(out) # на выходе размер 10\n",
    "        \n",
    "        return out\n",
    "\n",
    "model = Lenet5(hidden_size1=500, num_classes=10).to(device)\n"
   ]
  },
  {
   "cell_type": "markdown",
   "metadata": {},
   "source": [
    "# 3 этап - Loss-функция и оптимизатор"
   ]
  },
  {
   "cell_type": "code",
   "execution_count": 4,
   "metadata": {},
   "outputs": [],
   "source": [
    "# Loss and optimizer\n",
    "criterion = nn.CrossEntropyLoss()\n",
    "optimizer = torch.optim.Adam(model.parameters(), lr=learning_rate)"
   ]
  },
  {
   "cell_type": "markdown",
   "metadata": {},
   "source": [
    "# 4 этап - обучение нейросети"
   ]
  },
  {
   "cell_type": "code",
   "execution_count": 5,
   "metadata": {},
   "outputs": [
    {
     "name": "stdout",
     "output_type": "stream",
     "text": [
      "Epoch [1/5], Step [100/600], Loss: 0.0850\n",
      "Epoch [1/5], Step [200/600], Loss: 0.0443\n",
      "Epoch [1/5], Step [300/600], Loss: 0.0386\n",
      "Epoch [1/5], Step [400/600], Loss: 0.1265\n",
      "Epoch [1/5], Step [500/600], Loss: 0.1059\n",
      "Epoch [1/5], Step [600/600], Loss: 0.0549\n",
      "Accuracy of the network on the 10000 test images: 98.76 %\n",
      "Epoch [2/5], Step [100/600], Loss: 0.0030\n",
      "Epoch [2/5], Step [200/600], Loss: 0.1028\n",
      "Epoch [2/5], Step [300/600], Loss: 0.0159\n",
      "Epoch [2/5], Step [400/600], Loss: 0.0093\n",
      "Epoch [2/5], Step [500/600], Loss: 0.0446\n",
      "Epoch [2/5], Step [600/600], Loss: 0.0081\n",
      "Accuracy of the network on the 10000 test images: 98.48 %\n",
      "Epoch [3/5], Step [100/600], Loss: 0.0127\n",
      "Epoch [3/5], Step [200/600], Loss: 0.0645\n",
      "Epoch [3/5], Step [300/600], Loss: 0.0374\n",
      "Epoch [3/5], Step [400/600], Loss: 0.0491\n",
      "Epoch [3/5], Step [500/600], Loss: 0.0230\n",
      "Epoch [3/5], Step [600/600], Loss: 0.0192\n",
      "Accuracy of the network on the 10000 test images: 98.93 %\n",
      "Epoch [4/5], Step [100/600], Loss: 0.0091\n",
      "Epoch [4/5], Step [200/600], Loss: 0.0060\n",
      "Epoch [4/5], Step [300/600], Loss: 0.0244\n",
      "Epoch [4/5], Step [400/600], Loss: 0.0122\n",
      "Epoch [4/5], Step [500/600], Loss: 0.0045\n",
      "Epoch [4/5], Step [600/600], Loss: 0.0239\n",
      "Accuracy of the network on the 10000 test images: 99.12 %\n",
      "Epoch [5/5], Step [100/600], Loss: 0.0073\n",
      "Epoch [5/5], Step [200/600], Loss: 0.0106\n",
      "Epoch [5/5], Step [300/600], Loss: 0.0090\n",
      "Epoch [5/5], Step [400/600], Loss: 0.0079\n",
      "Epoch [5/5], Step [500/600], Loss: 0.0019\n",
      "Epoch [5/5], Step [600/600], Loss: 0.0533\n",
      "Accuracy of the network on the 10000 test images: 99.03 %\n"
     ]
    }
   ],
   "source": [
    "# Train the model\n",
    "total_step = len(train_loader)\n",
    "for epoch in range(num_epochs):\n",
    "    for i, (images, labels) in enumerate(train_loader):  \n",
    "        # Move tensors to the configured device\n",
    "        #images = images.reshape(-1, 28*28).to(device)\n",
    "        images = images.to(device)\n",
    "        labels = labels.to(device)\n",
    "        \n",
    "        # Forward pass\n",
    "        outputs = model(images)\n",
    "        loss = criterion(outputs, labels)\n",
    "        \n",
    "        # Backward and optimize\n",
    "        optimizer.zero_grad()\n",
    "        loss.backward()\n",
    "        optimizer.step()\n",
    "        \n",
    "        if (i+1) % 100 == 0:\n",
    "            print ('Epoch [{}/{}], Step [{}/{}], Loss: {:.4f}' \n",
    "                   .format(epoch+1, num_epochs, i+1, total_step, loss.item()))\n",
    "    # Test the model\n",
    "    # In test phase, we don't need to compute gradients (for memory efficiency)\n",
    "    with torch.no_grad():\n",
    "        correct = 0\n",
    "        total = 0\n",
    "        for images, labels in test_loader:\n",
    "            #images = images.reshape(-1, 28*28).to(device)\n",
    "            images = images.to(device)\n",
    "            labels = labels.to(device)\n",
    "            outputs = model(images)\n",
    "            _, predicted = torch.max(outputs.data, 1)\n",
    "            total += labels.size(0)\n",
    "            correct += (predicted == labels).sum().item()\n",
    "\n",
    "        print('Accuracy of the network on the 10000 test images: {} %'.format(100 * correct / total))\n",
    "\n",
    "    # Save the model checkpoint\n",
    "    torch.save(model.state_dict(), 'model.ckpt')"
   ]
  },
  {
   "cell_type": "markdown",
   "metadata": {},
   "source": [
    "# Улучшение кода: аугментация данных\n",
    "Расширим обучающий датасет за счёт дополнительных искажений исходных картинок:  \n",
    " - небольших случайных поворотов (rotate), \n",
    " - дрожания (jitter), \n",
    " - кроппинга (crop) \n",
    " - и др.   \n",
    "Для трансформации картинок используем методы библиотеки `torchvision.transforms`, про которые можно прочитать [здесь](https://pytorch.org/vision/stable/transforms.html)  \n",
    "Целью задания является - получить точность на тестовой выборке 99.5%.\n",
    "\n",
    "## Подготовка данных"
   ]
  },
  {
   "cell_type": "code",
   "execution_count": 6,
   "metadata": {},
   "outputs": [],
   "source": [
    "transformеr_for_train = v2.Compose([transforms.ToTensor(),\n",
    "                                    v2.CenterCrop(28),\n",
    "                                    v2.RandomRotation(degrees=15),\n",
    "                                    v2.Normalize(mean=[0.456], std=[0.224])])\n",
    "\n",
    "transformеr_for_test = v2.Compose([transforms.ToTensor(),\n",
    "                                   v2.Normalize(mean=[0.456], std=[0.224])])"
   ]
  },
  {
   "cell_type": "code",
   "execution_count": 7,
   "metadata": {},
   "outputs": [],
   "source": [
    "train_dataset = torchvision.datasets.MNIST(root='../../data', \n",
    "                                           train=True, \n",
    "                                           transform=transformеr_for_train,  \n",
    "                                           download=True)\n",
    "\n",
    "test_dataset = torchvision.datasets.MNIST(root='../../data', \n",
    "                                          train=False, \n",
    "                                          transform=transformеr_for_test)\n",
    "\n",
    "train_loader = torch.utils.data.DataLoader(dataset=train_dataset, \n",
    "                                           batch_size=batch_size, \n",
    "                                           shuffle=True)\n",
    "\n",
    "test_loader = torch.utils.data.DataLoader(dataset=test_dataset, \n",
    "                                          batch_size=batch_size, \n",
    "                                          shuffle=False)"
   ]
  },
  {
   "cell_type": "markdown",
   "metadata": {},
   "source": [
    "## Обучение нейросети"
   ]
  },
  {
   "cell_type": "code",
   "execution_count": 8,
   "metadata": {},
   "outputs": [
    {
     "name": "stdout",
     "output_type": "stream",
     "text": [
      "Epoch [1/5], Step [100/600], Loss: 0.0036\n",
      "Epoch [1/5], Step [200/600], Loss: 0.0310\n",
      "Epoch [1/5], Step [300/600], Loss: 0.0167\n",
      "Epoch [1/5], Step [400/600], Loss: 0.0125\n",
      "Epoch [1/5], Step [500/600], Loss: 0.0003\n",
      "Epoch [1/5], Step [600/600], Loss: 0.0002\n",
      "Accuracy of the network on the 10000 test images: 99.16 %\n",
      "Epoch [2/5], Step [100/600], Loss: 0.0040\n",
      "Epoch [2/5], Step [200/600], Loss: 0.0020\n",
      "Epoch [2/5], Step [300/600], Loss: 0.0156\n",
      "Epoch [2/5], Step [400/600], Loss: 0.0017\n",
      "Epoch [2/5], Step [500/600], Loss: 0.0292\n",
      "Epoch [2/5], Step [600/600], Loss: 0.0037\n",
      "Accuracy of the network on the 10000 test images: 99.29 %\n",
      "Epoch [3/5], Step [100/600], Loss: 0.0047\n",
      "Epoch [3/5], Step [200/600], Loss: 0.0037\n",
      "Epoch [3/5], Step [300/600], Loss: 0.0072\n",
      "Epoch [3/5], Step [400/600], Loss: 0.0115\n",
      "Epoch [3/5], Step [500/600], Loss: 0.0158\n",
      "Epoch [3/5], Step [600/600], Loss: 0.0010\n",
      "Accuracy of the network on the 10000 test images: 99.34 %\n",
      "Epoch [4/5], Step [100/600], Loss: 0.0026\n",
      "Epoch [4/5], Step [200/600], Loss: 0.0058\n",
      "Epoch [4/5], Step [300/600], Loss: 0.0034\n",
      "Epoch [4/5], Step [400/600], Loss: 0.0109\n",
      "Epoch [4/5], Step [500/600], Loss: 0.0146\n",
      "Epoch [4/5], Step [600/600], Loss: 0.0025\n",
      "Accuracy of the network on the 10000 test images: 99.3 %\n",
      "Epoch [5/5], Step [100/600], Loss: 0.0001\n",
      "Epoch [5/5], Step [200/600], Loss: 0.0007\n",
      "Epoch [5/5], Step [300/600], Loss: 0.0004\n",
      "Epoch [5/5], Step [400/600], Loss: 0.0031\n",
      "Epoch [5/5], Step [500/600], Loss: 0.0713\n",
      "Epoch [5/5], Step [600/600], Loss: 0.0439\n",
      "Accuracy of the network on the 10000 test images: 99.52 %\n"
     ]
    }
   ],
   "source": [
    "# Train the model\n",
    "total_step = len(train_loader)\n",
    "for epoch in range(num_epochs):\n",
    "    model.train() # включены dropout (зануление некоторых нейронов) и batchnormalization\n",
    "    for i, (images, labels) in enumerate(train_loader):  \n",
    "        # Move tensors to the configured device\n",
    "        #images = images.reshape(-1, 28*28).to(device)\n",
    "        images = images.to(device)\n",
    "        labels = labels.to(device)\n",
    "        \n",
    "        # Forward pass\n",
    "        outputs = model(images)\n",
    "        loss = criterion(outputs, labels)\n",
    "        \n",
    "        # Backward and optimize\n",
    "        optimizer.zero_grad()\n",
    "        loss.backward()\n",
    "        optimizer.step()\n",
    "        \n",
    "        if (i+1) % 100 == 0:\n",
    "            print ('Epoch [{}/{}], Step [{}/{}], Loss: {:.4f}' \n",
    "                   .format(epoch+1, num_epochs, i+1, total_step, loss.item()))\n",
    "    # Test the model\n",
    "    # In test phase, we don't need to compute gradients (for memory efficiency)\n",
    "    with torch.no_grad():\n",
    "        model.eval() # отключены dropout (зануление некоторых нейронов) и batchnormalization\n",
    "        correct = 0\n",
    "        total = 0\n",
    "        for images, labels in test_loader:\n",
    "            #images = images.reshape(-1, 28*28).to(device)\n",
    "            images = images.to(device)\n",
    "            labels = labels.to(device)\n",
    "            outputs = model(images)\n",
    "            _, predicted = torch.max(outputs.data, 1)\n",
    "            total += labels.size(0)\n",
    "            correct += (predicted == labels).sum().item()\n",
    "\n",
    "        print('Accuracy of the network on the 10000 test images: {} %'.format(100 * correct / total))\n",
    "\n",
    "    # Save the model checkpoint\n",
    "    torch.save(model.state_dict(), 'model.ckpt')"
   ]
  }
 ],
 "metadata": {
  "kernelspec": {
   "display_name": "Python 3 (ipykernel)",
   "language": "python",
   "name": "python3"
  },
  "language_info": {
   "codemirror_mode": {
    "name": "ipython",
    "version": 3
   },
   "file_extension": ".py",
   "mimetype": "text/x-python",
   "name": "python",
   "nbconvert_exporter": "python",
   "pygments_lexer": "ipython3",
   "version": "3.11.4"
  }
 },
 "nbformat": 4,
 "nbformat_minor": 2
}
